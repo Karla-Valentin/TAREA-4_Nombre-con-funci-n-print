{
  "nbformat": 4,
  "nbformat_minor": 0,
  "metadata": {
    "colab": {
      "name": "Tarea 4_Nombre con función print.ipynb",
      "provenance": [],
      "authorship_tag": "ABX9TyMBmeBW0rdJxa8M/q4AtvRI",
      "include_colab_link": true
    },
    "kernelspec": {
      "name": "python3",
      "display_name": "Python 3"
    },
    "language_info": {
      "name": "python"
    }
  },
  "cells": [
    {
      "cell_type": "markdown",
      "metadata": {
        "id": "view-in-github",
        "colab_type": "text"
      },
      "source": [
        "<a href=\"https://colab.research.google.com/github/Karla-Valentin/TAREA-4_Nombre-con-funci-n-print/blob/main/Tarea_4_Nombre_con_funci%C3%B3n_print.ipynb\" target=\"_parent\"><img src=\"https://colab.research.google.com/assets/colab-badge.svg\" alt=\"Open In Colab\"/></a>"
      ]
    },
    {
      "cell_type": "code",
      "metadata": {
        "colab": {
          "base_uri": "https://localhost:8080/"
        },
        "id": "lqSgudmgMUHP",
        "outputId": "d194b916-4c14-40d3-dcc8-41bfacc7059c"
      },
      "source": [
        "# LETRA K\n",
        "print(\"\\n\\tK      K\\n\\tK     K\\n\\tK    K\\n\\tK   K\\n\\tK  K\\n\\tK K\\n\\tK  K\\n\\tK   K\\n\\tK    K\\n\\tK     K\\n\\tK      K\\n\\t\")\n",
        "\n",
        "# LETRA A\n",
        "print(\"\\n\\t   A\\n\\t A   A\\n\\tA     A\\n\\tA      A\\n\\tA      A\\n\\tAAAAAAAA\\n\\tA      A\\n\\tA      A\\n\\tA      A\\n\\tA      A\")\n",
        "\n",
        "# LETRA R\n",
        "print(\"\\n\\tR R R R R\\n\\tR         R\\n\\tR         R\\n\\tR R R R R\\n\\tR        R\\n\\tR         R\\n\\tR          R\\n\\tR           R\\n\\tR            R\")\n",
        "\n",
        "# LETRA L\n",
        "print(\"\\n\\tL\\n\\tL\\n\\tL\\n\\tL\\n\\tL\\n\\tL\\n\\tL\\n\\tL\\n\\tL L L L L L L\")\n",
        "\n",
        "# LETRA A\n",
        "print(\"\\n\\t   A\\n\\t A   A\\n\\tA     A\\n\\tA      A\\n\\tA      A\\n\\tAAAAAAAA \\n\\tA      A\\n\\tA      A\\n\\tA      A\\n\\tA      A\")"
      ],
      "execution_count": 239,
      "outputs": [
        {
          "output_type": "stream",
          "name": "stdout",
          "text": [
            "\n",
            "\tK      K\n",
            "\tK     K\n",
            "\tK    K\n",
            "\tK   K\n",
            "\tK  K\n",
            "\tK K\n",
            "\tK  K\n",
            "\tK   K\n",
            "\tK    K\n",
            "\tK     K\n",
            "\tK      K\n",
            "\t\n",
            "\n",
            "\t   A\n",
            "\t A   A\n",
            "\tA     A\n",
            "\tA      A\n",
            "\tA      A\n",
            "\tAAAAAAAA\n",
            "\tA      A\n",
            "\tA      A\n",
            "\tA      A\n",
            "\tA      A\n",
            "\n",
            "\tR R R R R\n",
            "\tR         R\n",
            "\tR         R\n",
            "\tR R R R R\n",
            "\tR        R\n",
            "\tR         R\n",
            "\tR          R\n",
            "\tR           R\n",
            "\tR            R\n",
            "\n",
            "\tL\n",
            "\tL\n",
            "\tL\n",
            "\tL\n",
            "\tL\n",
            "\tL\n",
            "\tL\n",
            "\tL\n",
            "\tL L L L L L L\n",
            "\n",
            "\t   A\n",
            "\t A   A\n",
            "\tA     A\n",
            "\tA      A\n",
            "\tA      A\n",
            "\tAAAAAAAA \n",
            "\tA      A\n",
            "\tA      A\n",
            "\tA      A\n",
            "\tA      A\n"
          ]
        }
      ]
    }
  ]
}